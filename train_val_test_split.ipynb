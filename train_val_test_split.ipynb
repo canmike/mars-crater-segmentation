{
 "cells": [
  {
   "cell_type": "code",
   "execution_count": 2,
   "metadata": {},
   "outputs": [
    {
     "data": {
      "text/plain": [
       "(5400, 5400)"
      ]
     },
     "execution_count": 2,
     "metadata": {},
     "output_type": "execute_result"
    }
   ],
   "source": [
    "import os\n",
    "\n",
    "image_folder_path = r'data_patches\\image'\n",
    "mask_folder_path = r'data_patches\\mask'\n",
    "\n",
    "image_files = os.listdir(image_folder_path)\n",
    "mask_files = os.listdir(mask_folder_path)\n",
    "\n",
    "# filter only .png files\n",
    "image_files = [file for file in image_files if file.endswith('.png')]\n",
    "mask_files = [file for file in mask_files if file.endswith('.png')]\n",
    "\n",
    "# sort files\n",
    "image_files.sort()\n",
    "mask_files.sort()\n",
    "\n",
    "len(image_files), len(mask_files)"
   ]
  },
  {
   "cell_type": "code",
   "execution_count": 10,
   "metadata": {},
   "outputs": [
    {
     "data": {
      "text/plain": [
       "(450, 450)"
      ]
     },
     "execution_count": 10,
     "metadata": {},
     "output_type": "execute_result"
    }
   ],
   "source": [
    "val_strings = ['N00_090', 'N-30_240']\n",
    "\n",
    "val_image_files = [file for file in image_files if any(val_string in file for val_string in val_strings)]\n",
    "val_mask_files = [file for file in mask_files if any(val_string in file for val_string in val_strings)]\n",
    "\n",
    "len(val_image_files), len(val_mask_files)"
   ]
  },
  {
   "cell_type": "code",
   "execution_count": 11,
   "metadata": {},
   "outputs": [
    {
     "data": {
      "text/plain": [
       "(450, 450)"
      ]
     },
     "execution_count": 11,
     "metadata": {},
     "output_type": "execute_result"
    }
   ],
   "source": [
    "test_strings = ['N00_150', 'N-30_030']\n",
    "\n",
    "test_image_files = [file for file in image_files if any(test_string in file for test_string in test_strings)]\n",
    "test_mask_files = [file for file in mask_files if any(test_string in file for test_string in test_strings)]\n",
    "\n",
    "len(test_image_files), len(test_mask_files)"
   ]
  },
  {
   "cell_type": "code",
   "execution_count": 12,
   "metadata": {},
   "outputs": [
    {
     "data": {
      "text/plain": [
       "(4500, 4500)"
      ]
     },
     "execution_count": 12,
     "metadata": {},
     "output_type": "execute_result"
    }
   ],
   "source": [
    "train_image_files = [file for file in image_files if file not in val_image_files and file not in test_image_files]\n",
    "train_mask_files = [file for file in mask_files if file not in val_mask_files and file not in test_mask_files]\n",
    "\n",
    "len(train_image_files), len(train_mask_files)"
   ]
  },
  {
   "cell_type": "code",
   "execution_count": 13,
   "metadata": {},
   "outputs": [],
   "source": [
    "out_folder = r'data_split'\n",
    "\n",
    "os.makedirs(os.path.join(out_folder, 'train', 'image'), exist_ok=True)\n",
    "os.makedirs(os.path.join(out_folder, 'train', 'mask'), exist_ok=True)\n",
    "\n",
    "os.makedirs(os.path.join(out_folder, 'val', 'image'), exist_ok=True)\n",
    "os.makedirs(os.path.join(out_folder, 'val', 'mask'), exist_ok=True)\n",
    "\n",
    "os.makedirs(os.path.join(out_folder, 'test', 'image'), exist_ok=True)\n",
    "os.makedirs(os.path.join(out_folder, 'test', 'mask'), exist_ok=True)"
   ]
  },
  {
   "cell_type": "code",
   "execution_count": 14,
   "metadata": {},
   "outputs": [
    {
     "name": "stdout",
     "output_type": "stream",
     "text": [
      "Moved 4500 train images\n",
      "Moved 4500 train masks\n",
      "Moved 450 val images\n",
      "Moved 450 val masks\n",
      "Moved 450 test images\n",
      "Moved 450 test masks\n"
     ]
    }
   ],
   "source": [
    "for file in train_image_files:\n",
    "    os.rename(os.path.join(image_folder_path, file), os.path.join(out_folder, 'train', 'image', file))\n",
    "print(f\"Moved {len(train_image_files)} train images\")\n",
    "\n",
    "for file in train_mask_files:\n",
    "    os.rename(os.path.join(mask_folder_path, file), os.path.join(out_folder, 'train', 'mask', file))\n",
    "print(f\"Moved {len(train_mask_files)} train masks\")\n",
    "\n",
    "for file in val_image_files:\n",
    "    os.rename(os.path.join(image_folder_path, file), os.path.join(out_folder, 'val', 'image', file))\n",
    "print(f\"Moved {len(val_image_files)} val images\")\n",
    "\n",
    "for file in val_mask_files:\n",
    "    os.rename(os.path.join(mask_folder_path, file), os.path.join(out_folder, 'val', 'mask', file))\n",
    "print(f\"Moved {len(val_mask_files)} val masks\")\n",
    "\n",
    "for file in test_image_files:\n",
    "    os.rename(os.path.join(image_folder_path, file), os.path.join(out_folder, 'test', 'image', file))\n",
    "print(f\"Moved {len(test_image_files)} test images\")\n",
    "\n",
    "for file in test_mask_files:\n",
    "    os.rename(os.path.join(mask_folder_path, file), os.path.join(out_folder, 'test', 'mask', file))\n",
    "print(f\"Moved {len(test_mask_files)} test masks\")"
   ]
  }
 ],
 "metadata": {
  "kernelspec": {
   "display_name": "gdal",
   "language": "python",
   "name": "python3"
  },
  "language_info": {
   "codemirror_mode": {
    "name": "ipython",
    "version": 3
   },
   "file_extension": ".py",
   "mimetype": "text/x-python",
   "name": "python",
   "nbconvert_exporter": "python",
   "pygments_lexer": "ipython3",
   "version": "3.8.20"
  }
 },
 "nbformat": 4,
 "nbformat_minor": 2
}

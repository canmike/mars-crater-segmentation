{
 "cells": [
  {
   "cell_type": "code",
   "execution_count": 7,
   "metadata": {},
   "outputs": [],
   "source": [
    "from osgeo import gdal\n",
    "import numpy as np\n",
    "import os"
   ]
  },
  {
   "cell_type": "code",
   "execution_count": 14,
   "metadata": {},
   "outputs": [
    {
     "name": "stdout",
     "output_type": "stream",
     "text": [
      "Collecting tqdm\n",
      "  Downloading tqdm-4.67.1-py3-none-any.whl.metadata (57 kB)\n",
      "Requirement already satisfied: colorama in c:\\users\\can.michael\\appdata\\local\\anaconda3\\envs\\gdal\\lib\\site-packages (from tqdm) (0.4.6)\n",
      "Downloading tqdm-4.67.1-py3-none-any.whl (78 kB)\n",
      "Installing collected packages: tqdm\n",
      "Successfully installed tqdm-4.67.1\n",
      "Note: you may need to restart the kernel to use updated packages.\n"
     ]
    }
   ],
   "source": [
    "%pip install tqdm"
   ]
  },
  {
   "cell_type": "code",
   "execution_count": 23,
   "metadata": {},
   "outputs": [
    {
     "name": "stdout",
     "output_type": "stream",
     "text": [
      "Fetching directory listing...\n"
     ]
    },
    {
     "data": {
      "text/plain": [
       "'<?xml version=\"1.0\" encoding=\"iso-8859-1\"?>\\n<!DOCTYPE html PUBLIC \"-//W3C//DTD XHTML 1.1//EN\" \"http://www.w3.org/TR/xhtml11/DTD/xhtml11.dtd\">\\n<html xmlns=\"http://www.w3.org/1999/xhtml\" xml:lang=\"en\">\\n<head>\\n<title>Index of /data/thm_dir/large/</title>\\n<style type=\"text/css\">\\na, a:active {text-decoration: none; color: blue;}\\na:visited {color: #48468F;}\\na:hover, a:focus {text-decoration: underline; color: red;}\\nbody {background-color: #F5F5F5;}\\nh2 {margin-bottom: 12px;}\\ntable {margin-left: 12px;}\\nth, td { font: 90% monospace; text-align: left;}\\nth { font-weight: bold; padding-right: 14px; padding-bottom: 3px;}\\ntd {padding-right: 14px;}\\ntd.s, th.s {text-align: right;}\\ndiv.list { background-color: white; border-top: 1px solid #646464; border-bottom: 1px solid #646464; padding-top: 10px; padding-bottom: 14px;}\\ndiv.foot { font: 90% monospace; color: #787878; padding-top: 4px;}\\n</style>\\n</head>\\n<body>\\n<h2>Index of /data/thm_dir/large/</h2>\\n<div class=\"list\">\\n<table summary=\"Directory Listing\" cellpadding=\"0\" cellspacing=\"0\">\\n<thead><tr><th class=\"n\">Name</th><th class=\"m\">Last Modified</th><th class=\"s\">Size</th><th class=\"t\">Type</th></tr></thead>\\n<tbody>\\n<tr><td class=\"n\"><a href=\"../\">Parent Directory</a>/</td><td class=\"m\">&nbsp;</td><td class=\"s\">- &nbsp;</td><td class=\"t\">Directory</td></tr>\\n<tr><td class=\"n\"><a href=\"v1.0/\">v1.0</a>/</td><td class=\"m\">2007-Mar-05 14:18:33</td><td class=\"s\">- &nbsp;</td><td class=\"t\">Directory</td></tr>\\n<tr><td class=\"n\"><a href=\"thm_dir_N-30_000.png\">thm_dir_N-30_000.png</a></td><td class=\"m\">2006-Nov-17 14:54:49</td><td class=\"s\">36.8M</td><td class=\"t\">image/png</td></tr>\\n<tr><td class=\"n\"><a href=\"thm_dir_N-30_030.png\">thm_dir_N-30_030.png</a></td><td class=\"m\">2006-Nov-17 14:55:12</td><td class=\"s\">37.5M</td><td class=\"t\">image/png</td></tr>\\n<tr><td class=\"n\"><a href=\"thm_dir_N-30_060.png\">thm_dir_N-30_060.png</a></td><td class=\"m\">2006-Nov-17 14:55:38</td><td class=\"s\">38.9M</td><td class=\"t\">image/png</td></tr>\\n<tr><td class=\"n\"><a href=\"thm_dir_N-30_090.png\">thm_dir_N-30_090.png</a></td><td class=\"m\">2006-Nov-17 14:55:59</td><td class=\"s\">38.6M</td><td class=\"t\">image/png</td></tr>\\n<tr><td class=\"n\"><a href=\"thm_dir_N-30_120.png\">thm_dir_N-30_120.png</a></td><td class=\"m\">2006-Nov-17 14:56:34</td><td class=\"s\">39.1M</td><td class=\"t\">image/png</td></tr>\\n<tr><td class=\"n\"><a href=\"thm_dir_N-30_150.png\">thm_dir_N-30_150.png</a></td><td class=\"m\">2006-Nov-17 14:56:59</td><td class=\"s\">39.0M</td><td class=\"t\">image/png</td></tr>\\n<tr><td class=\"n\"><a href=\"thm_dir_N-30_180.png\">thm_dir_N-30_180.png</a></td><td class=\"m\">2006-Nov-17 14:57:23</td><td class=\"s\">39.3M</td><td class=\"t\">image/png</td></tr>\\n<tr><td class=\"n\"><a href=\"thm_dir_N-30_210.png\">thm_dir_N-30_210.png</a></td><td class=\"m\">2006-Nov-17 14:57:53</td><td class=\"s\">40.4M</td><td class=\"t\">image/png</td></tr>\\n<tr><td class=\"n\"><a href=\"thm_dir_N-30_240.png\">thm_dir_N-30_240.png</a></td><td class=\"m\">2006-Nov-17 14:58:08</td><td class=\"s\">36.5M</td><td class=\"t\">image/png</td></tr>\\n<tr><td class=\"n\"><a href=\"thm_dir_N-30_270.png\">thm_dir_N-30_270.png</a></td><td class=\"m\">2006-Nov-17 14:58:38</td><td class=\"s\">34.7M</td><td class=\"t\">image/png</td></tr>\\n<tr><td class=\"n\"><a href=\"thm_dir_N-30_300.png\">thm_dir_N-30_300.png</a></td><td class=\"m\">2006-Nov-17 14:58:57</td><td class=\"s\">36.6M</td><td class=\"t\">image/png</td></tr>\\n<tr><td class=\"n\"><a href=\"thm_dir_N-30_330.png\">thm_dir_N-30_330.png</a></td><td class=\"m\">2006-Nov-17 14:59:11</td><td class=\"s\">38.0M</td><td class=\"t\">image/png</td></tr>\\n<tr><td class=\"n\"><a href=\"thm_dir_N-60_000.png\">thm_dir_N-60_000.png</a></td><td class=\"m\">2006-Nov-17 14:59:32</td><td class=\"s\">36.2M</td><td class=\"t\">image/png</td></tr>\\n<tr><td class=\"n\"><a href=\"thm_dir_N-60_030.png\">thm_dir_N-60_030.png</a></td><td class=\"m\">2006-Nov-17 15:00:04</td><td class=\"s\">36.2M</td><td class=\"t\">image/png</td></tr>\\n<tr><td class=\"n\"><a href=\"thm_dir_N-60_060.png\">thm_dir_N-60_060.png</a></td><td class=\"m\">2006-Nov-17 15:00:26</td><td class=\"s\">36.6M</td><td class=\"t\">image/png</td></tr>\\n<tr><td class=\"n\"><a href=\"thm_dir_N-60_090.png\">thm_dir_N-60_090.png</a></td><td class=\"m\">2006-Nov-17 15:00:50</td><td class=\"s\">34.7M</td><td class=\"t\">image/png</td></tr>\\n<tr><td class=\"n\"><a href=\"thm_dir_N-60_120.png\">thm_dir_N-60_120.png</a></td><td class=\"m\">2006-Nov-17 15:01:12</td><td class=\"s\">35.9M</td><td class=\"t\">image/png</td></tr>\\n<tr><td class=\"n\"><a href=\"thm_dir_N-60_150.png\">thm_dir_N-60_150.png</a></td><td class=\"m\">2006-Nov-17 15:01:39</td><td class=\"s\">36.4M</td><td class=\"t\">image/png</td></tr>\\n<tr><td class=\"n\"><a href=\"thm_dir_N-60_180.png\">thm_dir_N-60_180.png</a></td><td class=\"m\">2006-Nov-17 15:02:15</td><td class=\"s\">37.1M</td><td class=\"t\">image/png</td></tr>\\n<tr><td class=\"n\"><a href=\"thm_dir_N-60_210.png\">thm_dir_N-60_210.png</a></td><td class=\"m\">2006-Nov-17 15:02:44</td><td class=\"s\">37.1M</td><td class=\"t\">image/png</td></tr>\\n<tr><td class=\"n\"><a href=\"thm_dir_N-60_240.png\">thm_dir_N-60_240.png</a></td><td class=\"m\">2006-Nov-17 15:03:10</td><td class=\"s\">36.6M</td><td class=\"t\">image/png</td></tr>\\n<tr><td class=\"n\"><a href=\"thm_dir_N-60_270.png\">thm_dir_N-60_270.png</a></td><td class=\"m\">2006-Nov-17 15:03:30</td><td class=\"s\">36.9M</td><td class=\"t\">image/png</td></tr>\\n<tr><td class=\"n\"><a href=\"thm_dir_N-60_300.png\">thm_dir_N-60_300.png</a></td><td class=\"m\">2006-Nov-17 15:03:58</td><td class=\"s\">34.4M</td><td class=\"t\">image/png</td></tr>\\n<tr><td class=\"n\"><a href=\"thm_dir_N-60_330.png\">thm_dir_N-60_330.png</a></td><td class=\"m\">2006-Nov-17 15:04:10</td><td class=\"s\">37.2M</td><td class=\"t\">image/png</td></tr>\\n<tr><td class=\"n\"><a href=\"thm_dir_N-90_000.png\">thm_dir_N-90_000.png</a></td><td class=\"m\">2006-Nov-17 15:04:17</td><td class=\"s\">18.3M</td><td class=\"t\">image/png</td></tr>\\n<tr><td class=\"n\"><a href=\"thm_dir_N-90_030.png\">thm_dir_N-90_030.png</a></td><td class=\"m\">2006-Nov-17 15:04:28</td><td class=\"s\">19.4M</td><td class=\"t\">image/png</td></tr>\\n<tr><td class=\"n\"><a href=\"thm_dir_N-90_060.png\">thm_dir_N-90_060.png</a></td><td class=\"m\">2006-Nov-17 15:04:40</td><td class=\"s\">20.1M</td><td class=\"t\">image/png</td></tr>\\n<tr><td class=\"n\"><a href=\"thm_dir_N-90_090.png\">thm_dir_N-90_090.png</a></td><td class=\"m\">2006-Nov-17 15:04:53</td><td class=\"s\">18.9M</td><td class=\"t\">image/png</td></tr>\\n<tr><td class=\"n\"><a href=\"thm_dir_N-90_120.png\">thm_dir_N-90_120.png</a></td><td class=\"m\">2006-Nov-17 15:05:03</td><td class=\"s\">19.2M</td><td class=\"t\">image/png</td></tr>\\n<tr><td class=\"n\"><a href=\"thm_dir_N-90_150.png\">thm_dir_N-90_150.png</a></td><td class=\"m\">2006-Nov-17 15:05:15</td><td class=\"s\">19.7M</td><td class=\"t\">image/png</td></tr>\\n<tr><td class=\"n\"><a href=\"thm_dir_N-90_180.png\">thm_dir_N-90_180.png</a></td><td class=\"m\">2006-Nov-17 15:05:30</td><td class=\"s\">19.2M</td><td class=\"t\">image/png</td></tr>\\n<tr><td class=\"n\"><a href=\"thm_dir_N-90_210.png\">thm_dir_N-90_210.png</a></td><td class=\"m\">2006-Nov-17 15:05:41</td><td class=\"s\">19.0M</td><td class=\"t\">image/png</td></tr>\\n<tr><td class=\"n\"><a href=\"thm_dir_N-90_240.png\">thm_dir_N-90_240.png</a></td><td class=\"m\">2006-Nov-17 15:05:48</td><td class=\"s\">19.3M</td><td class=\"t\">image/png</td></tr>\\n<tr><td class=\"n\"><a href=\"thm_dir_N-90_270.png\">thm_dir_N-90_270.png</a></td><td class=\"m\">2006-Nov-17 15:06:03</td><td class=\"s\">19.4M</td><td class=\"t\">image/png</td></tr>\\n<tr><td class=\"n\"><a href=\"thm_dir_N-90_300.png\">thm_dir_N-90_300.png</a></td><td class=\"m\">2006-Nov-17 15:06:12</td><td class=\"s\">18.8M</td><td class=\"t\">image/png</td></tr>\\n<tr><td class=\"n\"><a href=\"thm_dir_N-90_330.png\">thm_dir_N-90_330.png</a></td><td class=\"m\">2006-Nov-17 15:06:20</td><td class=\"s\">18.1M</td><td class=\"t\">image/png</td></tr>\\n<tr><td class=\"n\"><a href=\"thm_dir_N00_000.png\">thm_dir_N00_000.png</a></td><td class=\"m\">2006-Nov-17 15:06:56</td><td class=\"s\">37.4M</td><td class=\"t\">image/png</td></tr>\\n<tr><td class=\"n\"><a href=\"thm_dir_N00_030.png\">thm_dir_N00_030.png</a></td><td class=\"m\">2006-Nov-17 15:07:18</td><td class=\"s\">38.1M</td><td class=\"t\">image/png</td></tr>\\n<tr><td class=\"n\"><a href=\"thm_dir_N00_060.png\">thm_dir_N00_060.png</a></td><td class=\"m\">2006-Nov-17 15:07:38</td><td class=\"s\">38.3M</td><td class=\"t\">image/png</td></tr>\\n<tr><td class=\"n\"><a href=\"thm_dir_N00_090.png\">thm_dir_N00_090.png</a></td><td class=\"m\">2006-Nov-17 15:08:07</td><td class=\"s\">39.9M</td><td class=\"t\">image/png</td></tr>\\n<tr><td class=\"n\"><a href=\"thm_dir_N00_120.png\">thm_dir_N00_120.png</a></td><td class=\"m\">2006-Nov-17 15:08:32</td><td class=\"s\">38.7M</td><td class=\"t\">image/png</td></tr>\\n<tr><td class=\"n\"><a href=\"thm_dir_N00_150.png\">thm_dir_N00_150.png</a></td><td class=\"m\">2006-Nov-17 15:08:43</td><td class=\"s\">37.6M</td><td class=\"t\">image/png</td></tr>\\n<tr><td class=\"n\"><a href=\"thm_dir_N00_180.png\">thm_dir_N00_180.png</a></td><td class=\"m\">2006-Nov-17 15:09:05</td><td class=\"s\">39.4M</td><td class=\"t\">image/png</td></tr>\\n<tr><td class=\"n\"><a href=\"thm_dir_N00_210.png\">thm_dir_N00_210.png</a></td><td class=\"m\">2006-Nov-17 15:09:27</td><td class=\"s\">40.0M</td><td class=\"t\">image/png</td></tr>\\n<tr><td class=\"n\"><a href=\"thm_dir_N00_240.png\">thm_dir_N00_240.png</a></td><td class=\"m\">2006-Nov-17 15:09:48</td><td class=\"s\">38.9M</td><td class=\"t\">image/png</td></tr>\\n<tr><td class=\"n\"><a href=\"thm_dir_N00_270.png\">thm_dir_N00_270.png</a></td><td class=\"m\">2006-Nov-17 15:10:13</td><td class=\"s\">38.6M</td><td class=\"t\">image/png</td></tr>\\n<tr><td class=\"n\"><a href=\"thm_dir_N00_300.png\">thm_dir_N00_300.png</a></td><td class=\"m\">2006-Nov-17 15:10:35</td><td class=\"s\">37.0M</td><td class=\"t\">image/png</td></tr>\\n<tr><td class=\"n\"><a href=\"thm_dir_N00_330.png\">thm_dir_N00_330.png</a></td><td class=\"m\">2006-Nov-17 15:10:53</td><td class=\"s\">37.4M</td><td class=\"t\">image/png</td></tr>\\n<tr><td class=\"n\"><a href=\"thm_dir_N30_000.png\">thm_dir_N30_000.png</a></td><td class=\"m\">2006-Nov-17 15:11:07</td><td class=\"s\">31.3M</td><td class=\"t\">image/png</td></tr>\\n<tr><td class=\"n\"><a href=\"thm_dir_N30_030.png\">thm_dir_N30_030.png</a></td><td class=\"m\">2006-Nov-17 15:11:14</td><td class=\"s\">29.6M</td><td class=\"t\">image/png</td></tr>\\n<tr><td class=\"n\"><a href=\"thm_dir_N30_060.png\">thm_dir_N30_060.png</a></td><td class=\"m\">2006-Nov-17 15:11:21</td><td class=\"s\">26.5M</td><td class=\"t\">image/png</td></tr>\\n<tr><td class=\"n\"><a href=\"thm_dir_N30_090.png\">thm_dir_N30_090.png</a></td><td class=\"m\">2006-Nov-17 15:11:39</td><td class=\"s\">28.4M</td><td class=\"t\">image/png</td></tr>\\n<tr><td class=\"n\"><a href=\"thm_dir_N30_120.png\">thm_dir_N30_120.png</a></td><td class=\"m\">2006-Nov-17 15:12:22</td><td class=\"s\">35.8M</td><td class=\"t\">image/png</td></tr>\\n<tr><td class=\"n\"><a href=\"thm_dir_N30_150.png\">thm_dir_N30_150.png</a></td><td class=\"m\">2006-Nov-17 15:12:39</td><td class=\"s\">34.5M</td><td class=\"t\">image/png</td></tr>\\n<tr><td class=\"n\"><a href=\"thm_dir_N30_180.png\">thm_dir_N30_180.png</a></td><td class=\"m\">2006-Nov-17 15:13:03</td><td class=\"s\">38.7M</td><td class=\"t\">image/png</td></tr>\\n<tr><td class=\"n\"><a href=\"thm_dir_N30_210.png\">thm_dir_N30_210.png</a></td><td class=\"m\">2006-Nov-17 15:13:18</td><td class=\"s\">37.9M</td><td class=\"t\">image/png</td></tr>\\n<tr><td class=\"n\"><a href=\"thm_dir_N30_240.png\">thm_dir_N30_240.png</a></td><td class=\"m\">2006-Nov-17 15:13:33</td><td class=\"s\">33.8M</td><td class=\"t\">image/png</td></tr>\\n<tr><td class=\"n\"><a href=\"thm_dir_N30_270.png\">thm_dir_N30_270.png</a></td><td class=\"m\">2006-Nov-17 15:13:51</td><td class=\"s\">33.8M</td><td class=\"t\">image/png</td></tr>\\n<tr><td class=\"n\"><a href=\"thm_dir_N30_300.png\">thm_dir_N30_300.png</a></td><td class=\"m\">2006-Nov-17 15:14:00</td><td class=\"s\">31.0M</td><td class=\"t\">image/png</td></tr>\\n<tr><td class=\"n\"><a href=\"thm_dir_N30_330.png\">thm_dir_N30_330.png</a></td><td class=\"m\">2006-Nov-17 15:14:20</td><td class=\"s\">33.1M</td><td class=\"t\">image/png</td></tr>\\n<tr><td class=\"n\"><a href=\"thm_dir_N60_000.png\">thm_dir_N60_000.png</a></td><td class=\"m\">2006-Nov-17 15:14:31</td><td class=\"s\">14.5M</td><td class=\"t\">image/png</td></tr>\\n<tr><td class=\"n\"><a href=\"thm_dir_N60_030.png\">thm_dir_N60_030.png</a></td><td class=\"m\">2006-Nov-17 15:14:37</td><td class=\"s\">11.5M</td><td class=\"t\">image/png</td></tr>\\n<tr><td class=\"n\"><a href=\"thm_dir_N60_060.png\">thm_dir_N60_060.png</a></td><td class=\"m\">2006-Nov-17 15:14:43</td><td class=\"s\">13.9M</td><td class=\"t\">image/png</td></tr>\\n<tr><td class=\"n\"><a href=\"thm_dir_N60_090.png\">thm_dir_N60_090.png</a></td><td class=\"m\">2006-Nov-17 15:14:48</td><td class=\"s\">14.3M</td><td class=\"t\">image/png</td></tr>\\n<tr><td class=\"n\"><a href=\"thm_dir_N60_120.png\">thm_dir_N60_120.png</a></td><td class=\"m\">2006-Nov-17 15:14:52</td><td class=\"s\">12.7M</td><td class=\"t\">image/png</td></tr>\\n<tr><td class=\"n\"><a href=\"thm_dir_N60_150.png\">thm_dir_N60_150.png</a></td><td class=\"m\">2006-Nov-17 15:15:06</td><td class=\"s\">15.1M</td><td class=\"t\">image/png</td></tr>\\n<tr><td class=\"n\"><a href=\"thm_dir_N60_180.png\">thm_dir_N60_180.png</a></td><td class=\"m\">2009-Jul-20 11:07:43</td><td class=\"s\">17.4M</td><td class=\"t\">image/png</td></tr>\\n<tr><td class=\"n\"><a href=\"thm_dir_N60_210.png\">thm_dir_N60_210.png</a></td><td class=\"m\">2006-Nov-17 15:15:16</td><td class=\"s\">18.0M</td><td class=\"t\">image/png</td></tr>\\n<tr><td class=\"n\"><a href=\"thm_dir_N60_240.png\">thm_dir_N60_240.png</a></td><td class=\"m\">2006-Nov-17 15:15:22</td><td class=\"s\">14.1M</td><td class=\"t\">image/png</td></tr>\\n<tr><td class=\"n\"><a href=\"thm_dir_N60_270.png\">thm_dir_N60_270.png</a></td><td class=\"m\">2006-Nov-17 15:15:25</td><td class=\"s\">16.0M</td><td class=\"t\">image/png</td></tr>\\n<tr><td class=\"n\"><a href=\"thm_dir_N60_300.png\">thm_dir_N60_300.png</a></td><td class=\"m\">2006-Nov-17 15:15:28</td><td class=\"s\">15.8M</td><td class=\"t\">image/png</td></tr>\\n<tr><td class=\"n\"><a href=\"thm_dir_N60_330.png\">thm_dir_N60_330.png</a></td><td class=\"m\">2006-Nov-17 15:15:41</td><td class=\"s\">17.5M</td><td class=\"t\">image/png</td></tr>\\n</tbody>\\n</table>\\n</div>\\n<div class=\"foot\"></div>\\n</body>\\n</html>\\n'"
      ]
     },
     "execution_count": 23,
     "metadata": {},
     "output_type": "execute_result"
    }
   ],
   "source": [
    "import requests\n",
    "\n",
    "# Base download URL\n",
    "download_url = 'https://www.mars.asu.edu/data/thm_dir/large/'\n",
    "\n",
    "# Local directory to save downloaded tiles\n",
    "local_dir = r'data_original\\image'\n",
    "os.makedirs(local_dir, exist_ok=True)\n",
    "\n",
    "def fetch_directory_listing(url):\n",
    "    try:\n",
    "        response = requests.get(url, timeout=10)\n",
    "        response.raise_for_status()\n",
    "        return response.text\n",
    "    except requests.RequestException as e:\n",
    "        print(f\"Error fetching directory listing: {e}\")\n",
    "        return None\n",
    "\n",
    "# Fetch the directory listing\n",
    "print(\"Fetching directory listing...\")\n",
    "html_content = fetch_directory_listing(download_url)\n",
    "\n",
    "if html_content is None:\n",
    "    raise SystemExit(\"Failed to retrieve directory listing.\")\n",
    "\n",
    "html_content"
   ]
  },
  {
   "cell_type": "code",
   "execution_count": 26,
   "metadata": {},
   "outputs": [
    {
     "name": "stdout",
     "output_type": "stream",
     "text": [
      "Downloaded: thm_dir_N00_000.png\n",
      "Downloaded: thm_dir_N00_030.png\n",
      "Downloaded: thm_dir_N00_060.png\n",
      "Downloaded: thm_dir_N00_090.png\n",
      "Downloaded: thm_dir_N00_120.png\n",
      "Downloaded: thm_dir_N00_150.png\n",
      "Downloaded: thm_dir_N00_180.png\n",
      "Downloaded: thm_dir_N00_210.png\n",
      "Downloaded: thm_dir_N00_240.png\n",
      "Downloaded: thm_dir_N00_270.png\n",
      "Downloaded: thm_dir_N00_300.png\n",
      "Downloaded: thm_dir_N00_330.png\n",
      "Downloaded: thm_dir_N-30_000.png\n",
      "Downloaded: thm_dir_N-30_030.png\n",
      "Downloaded: thm_dir_N-30_060.png\n",
      "Downloaded: thm_dir_N-30_090.png\n",
      "Downloaded: thm_dir_N-30_120.png\n",
      "Downloaded: thm_dir_N-30_150.png\n",
      "Downloaded: thm_dir_N-30_180.png\n",
      "Downloaded: thm_dir_N-30_210.png\n",
      "Downloaded: thm_dir_N-30_240.png\n",
      "Downloaded: thm_dir_N-30_270.png\n",
      "Downloaded: thm_dir_N-30_300.png\n",
      "Downloaded: thm_dir_N-30_330.png\n"
     ]
    }
   ],
   "source": [
    "import os\n",
    "import requests\n",
    "\n",
    "# Base URL for downloading tiles\n",
    "base_url = \"http://www.mars.asu.edu/data/thm_dir/large/\"\n",
    "\n",
    "# File patterns to match\n",
    "patterns = {\n",
    "    \"0 to +30N\": \"thm_dir_N00_*.png\",\n",
    "    \"-30N to 0\": \"thm_dir_N-30_*.png\"\n",
    "}\n",
    "\n",
    "# Create a local directory to save the downloaded files\n",
    "output_dir = r\"data_original/image\"\n",
    "os.makedirs(output_dir, exist_ok=True)\n",
    "\n",
    "# List of files to download based on the given patterns\n",
    "files_to_download = [\n",
    "    f\"thm_dir_N00_{i:03d}.png\" for i in range(0, 360, 30)\n",
    "] + [\n",
    "    f\"thm_dir_N-30_{i:03d}.png\" for i in range(0, 360, 30)\n",
    "]\n",
    "\n",
    "# Function to download a file\n",
    "def download_file(file_name):\n",
    "    url = base_url + file_name\n",
    "    local_path = os.path.join(output_dir, file_name)\n",
    "    try:\n",
    "        response = requests.get(url, stream=True)\n",
    "        if response.status_code == 200:\n",
    "            with open(local_path, \"wb\") as f:\n",
    "                for chunk in response.iter_content(chunk_size=8192):\n",
    "                    f.write(chunk)\n",
    "            print(f\"Downloaded: {file_name}\")\n",
    "        else:\n",
    "            print(f\"Failed to download {file_name} - Status Code: {response.status_code}\")\n",
    "    except Exception as e:\n",
    "        print(f\"Error downloading {file_name}: {e}\")\n",
    "\n",
    "# Download all matching files\n",
    "for file_name in files_to_download:\n",
    "    download_file(file_name)"
   ]
  }
 ],
 "metadata": {
  "kernelspec": {
   "display_name": "gdal",
   "language": "python",
   "name": "python3"
  },
  "language_info": {
   "codemirror_mode": {
    "name": "ipython",
    "version": 3
   },
   "file_extension": ".py",
   "mimetype": "text/x-python",
   "name": "python",
   "nbconvert_exporter": "python",
   "pygments_lexer": "ipython3",
   "version": "3.8.20"
  }
 },
 "nbformat": 4,
 "nbformat_minor": 2
}

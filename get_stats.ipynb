{
 "cells": [
  {
   "cell_type": "code",
   "execution_count": 1,
   "metadata": {},
   "outputs": [
    {
     "data": {
      "text/plain": [
       "(24,\n",
       " ['data_original\\\\image\\\\thm_dir_N-30_000.png',\n",
       "  'data_original\\\\image\\\\thm_dir_N-30_030.png',\n",
       "  'data_original\\\\image\\\\thm_dir_N-30_060.png',\n",
       "  'data_original\\\\image\\\\thm_dir_N-30_090.png',\n",
       "  'data_original\\\\image\\\\thm_dir_N-30_120.png'])"
      ]
     },
     "execution_count": 1,
     "metadata": {},
     "output_type": "execute_result"
    }
   ],
   "source": [
    "image_folder = r'data_original\\image'\n",
    "\n",
    "import os\n",
    "from PIL import Image\n",
    "\n",
    "image_list = os.listdir(image_folder)\n",
    "image_list = [image for image in image_list if image.endswith('.png')]\n",
    "image_list = [os.path.join(image_folder, image) for image in image_list]\n",
    "image_list.sort()\n",
    "\n",
    "len(image_list), image_list[:5]"
   ]
  },
  {
   "cell_type": "code",
   "execution_count": 2,
   "metadata": {},
   "outputs": [
    {
     "data": {
      "text/plain": [
       "(24, 7680, 7680)"
      ]
     },
     "execution_count": 2,
     "metadata": {},
     "output_type": "execute_result"
    }
   ],
   "source": [
    "import numpy as np\n",
    "\n",
    "image_array = np.array([np.array(Image.open(image)) for image in image_list])\n",
    "image_array.shape"
   ]
  },
  {
   "cell_type": "code",
   "execution_count": 3,
   "metadata": {},
   "outputs": [
    {
     "name": "stderr",
     "output_type": "stream",
     "text": [
      "100%|██████████| 24/24 [00:01<00:00, 12.68it/s]\n"
     ]
    }
   ],
   "source": [
    "from tqdm import tqdm\n",
    "for image in tqdm(image_array):\n",
    "    image[image == 0] = image.mean()\n"
   ]
  },
  {
   "cell_type": "code",
   "execution_count": 12,
   "metadata": {},
   "outputs": [
    {
     "data": {
      "text/plain": [
       "(0,)"
      ]
     },
     "execution_count": 12,
     "metadata": {},
     "output_type": "execute_result"
    }
   ],
   "source": [
    "image[image == 0].shape"
   ]
  },
  {
   "cell_type": "code",
   "execution_count": 13,
   "metadata": {},
   "outputs": [
    {
     "name": "stdout",
     "output_type": "stream",
     "text": [
      "Mean: 125.46322137691357\n",
      "Standard Deviation: 32.4722533092388\n",
      "Min: 1\n",
      "Max: 255\n"
     ]
    }
   ],
   "source": [
    "mean = np.mean(image_array)\n",
    "print(f\"Mean: {mean}\")\n",
    "std = np.std(image_array)\n",
    "print(f\"Standard Deviation: {std}\")\n",
    "min_value = np.min(image_array)\n",
    "print(f\"Min: {min_value}\")\n",
    "max_value = np.max(image_array)\n",
    "print(f\"Max: {max_value}\")"
   ]
  }
 ],
 "metadata": {
  "kernelspec": {
   "display_name": "gdal",
   "language": "python",
   "name": "python3"
  },
  "language_info": {
   "codemirror_mode": {
    "name": "ipython",
    "version": 3
   },
   "file_extension": ".py",
   "mimetype": "text/x-python",
   "name": "python",
   "nbconvert_exporter": "python",
   "pygments_lexer": "ipython3",
   "version": "3.8.20"
  }
 },
 "nbformat": 4,
 "nbformat_minor": 2
}
